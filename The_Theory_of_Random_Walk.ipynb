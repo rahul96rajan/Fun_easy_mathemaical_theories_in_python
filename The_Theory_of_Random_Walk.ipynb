{
 "cells": [
  {
   "cell_type": "markdown",
   "metadata": {},
   "source": [
    "# What is random walk?\n",
    "A random walk is the process by which randomly-moving objects wander away from where they started. Yes, that is it, easy-peasy.\n",
    "\n",
    "Lets understand this with the help of an example.\n",
    "Suppose you have a unbiased(having 50:50 chances of Heads and Tails) coin. You are going to flip it 100 times and if you get a Heads you will move forward a step and on the other hand if you get a Tails you will move a step back. And after completing 100 flips see how far backwards or forwards are you from the starting point.\n",
    "\n",
    "Now you will thinking, this is mundane and probably this has no practical use. And I must confess I thought the exact same.\n",
    "\n",
    "But to our surprise **Random Walk** has a plethora of applications and have gave rise to make mathematical and statistical studies.<br>\n",
    "The path traced by a molecule as it travels in a liquid or a gas, the search path of a foraging animal, the price of a fluctuating stock and the financial status of a gambler: all can be approximated by random walk models, even though they may not be truly random in reality.\n",
    "\n",
    "For more info please conside these resources. <a href='https://www.mit.edu/~kardar/teaching/projects/chemotaxis(AndreaSchmidt)/random.htm'>[1]</a>, [[2]](https://www.khanacademy.org/computing/computer-programming/programming-natural-simulations/programming-randomness/a/random-walks), [[3]](https://en.wikipedia.org/wiki/Random_walk)\n"
   ]
  },
  {
   "cell_type": "markdown",
   "metadata": {},
   "source": [
    "## Random Walk implementation (python)\n",
    "\n",
    "The main aim of writing this notebook is to understand the effifciency of Vectoriation. And Vectorization is technique of representing data in forms of vectors. And arithmetic operations on vectors help us compute data simultaneously rather than on repeating an operation. Confused? take a look the example below and revist the theory."
   ]
  },
  {
   "cell_type": "markdown",
   "metadata": {},
   "source": [
    "#### We can implement Random walk in two ways: \n",
    "* Classic looping way\n",
    "* Vectorized method using (Numpy)"
   ]
  },
  {
   "cell_type": "markdown",
   "metadata": {},
   "source": [
    "### Classic way (using good old loops)"
   ]
  },
  {
   "cell_type": "code",
   "execution_count": 1,
   "metadata": {},
   "outputs": [],
   "source": [
    "import random\n",
    "\n",
    "\n",
    "def random_walk_classic(n_steps = 10000):\n",
    "    pos = 0                                         # origin point\n",
    "    walk = [pos]                                    # list to keep track of walk\n",
    "    for x in range(n_steps):\n",
    "        step = 1 if random.randint(0,1) else -1     # generates psuedorandom coin flip outcomes\n",
    "        pos += step\n",
    "        walk.append(pos)\n",
    "    return walk, pos"
   ]
  },
  {
   "cell_type": "code",
   "execution_count": 2,
   "metadata": {},
   "outputs": [
    {
     "name": "stdout",
     "output_type": "stream",
     "text": [
      "Final Point : -52\n"
     ]
    }
   ],
   "source": [
    "_, pos = random_walk_classic()                 # here _ is used as a throwaway variable\n",
    "                                               # to catch the return value.\n",
    "print(\"Final Point :\", pos)"
   ]
  },
  {
   "cell_type": "markdown",
   "metadata": {},
   "source": [
    "### Vectorised Way (using Numpy) "
   ]
  },
  {
   "cell_type": "code",
   "execution_count": 3,
   "metadata": {},
   "outputs": [],
   "source": [
    "import numpy as np\n",
    "\n",
    "\n",
    "def random_walk_numpy(nsteps = 10000):\n",
    "    draws = np.random.randint(0, 2, size=nsteps)     # Generates a 1D array of psuedorandom\n",
    "                                                     # coin flip outcomes\n",
    "    steps = np.where(draws > 0, 1, -1)               # Array of steps taken on each flip\n",
    "                                                     # (either +1 or -1) \n",
    "    walk = steps.cumsum()                            # Array of cummulative sum of steps\n",
    "    return walk"
   ]
  },
  {
   "cell_type": "code",
   "execution_count": 4,
   "metadata": {},
   "outputs": [
    {
     "name": "stdout",
     "output_type": "stream",
     "text": [
      "Final Point : -148\n"
     ]
    }
   ],
   "source": [
    "walk = random_walk_numpy()                 # here _ is used as a throwaway variable\n",
    "                                           # to catch the return value.\n",
    "print(\"Final Point :\", walk[-1])"
   ]
  },
  {
   "cell_type": "markdown",
   "metadata": {},
   "source": [
    "### Let's check the efficiency for each one "
   ]
  },
  {
   "cell_type": "code",
   "execution_count": 5,
   "metadata": {},
   "outputs": [
    {
     "name": "stdout",
     "output_type": "stream",
     "text": [
      "7.63 ms ± 38 µs per loop (mean ± std. dev. of 7 runs, 100 loops each)\n"
     ]
    }
   ],
   "source": [
    "%timeit _ = random_walk_classic()"
   ]
  },
  {
   "cell_type": "code",
   "execution_count": 6,
   "metadata": {},
   "outputs": [
    {
     "name": "stdout",
     "output_type": "stream",
     "text": [
      "138 µs ± 993 ns per loop (mean ± std. dev. of 7 runs, 10000 loops each)\n"
     ]
    }
   ],
   "source": [
    "%timeit _ = random_walk_numpy()"
   ]
  },
  {
   "cell_type": "markdown",
   "metadata": {},
   "source": [
    "## Verdict\n",
    "Now classic method took approximately 7.63 ms<br>\n",
    "And numpy method approximately 138 µs\n",
    "\n",
    "1 milli unit = 1000 micro unit, therefore vectorised method(numpy) is approximately 55 time faster in execution than classic loop method."
   ]
  },
  {
   "cell_type": "markdown",
   "metadata": {},
   "source": [
    "## Credits:\n",
    "I got the idea and the example out of [Wes McKinney's](https://en.wikipedia.org/wiki/Wes_McKinney) book Python For Data Analysis. And highly recommend this [book](https://www.amazon.com/gp/product/B075X4LT6K/ref=dbs_a_def_rwt_bibl_vppi_i0) if you are into Data Analytics.\n",
    "\n",
    "Also I have attached 3 links the top-most cell, please have quick eye of them to."
   ]
  }
 ],
 "metadata": {
  "kernelspec": {
   "display_name": "Python 3",
   "language": "python",
   "name": "python3"
  },
  "language_info": {
   "codemirror_mode": {
    "name": "ipython",
    "version": 3
   },
   "file_extension": ".py",
   "mimetype": "text/x-python",
   "name": "python",
   "nbconvert_exporter": "python",
   "pygments_lexer": "ipython3",
   "version": "3.8.2"
  }
 },
 "nbformat": 4,
 "nbformat_minor": 4
}
